{
 "cells": [
  {
   "cell_type": "markdown",
   "id": "1104802a-cf1a-4489-b163-9e9dbc0a3844",
   "metadata": {},
   "source": [
    "# My Jupyter Notebook (on Skills Network Labs)"
   ]
  },
  {
   "cell_type": "markdown",
   "id": "9e8da56f-becc-4176-b66c-577126b72e56",
   "metadata": {},
   "source": [
    "**Diana Gillum**\n",
    "\n",
    "Data Analyst"
   ]
  },
  {
   "cell_type": "markdown",
   "id": "4e323efe-4aea-4209-ad78-04dd92d6f5ef",
   "metadata": {},
   "source": [
    "*I am interested in Data Science because \n",
    "I enjoy finding programmatic solutions to problems that would otherwise take insurmountable effort to solve.*"
   ]
  },
  {
   "cell_type": "markdown",
   "id": "2a3fcc0a-f932-4ead-bdd6-18b4fed3e0b1",
   "metadata": {},
   "source": [
    "### The code below will show the maximum and minimum numbers out of multiple inputs."
   ]
  },
  {
   "cell_type": "code",
   "execution_count": 1,
   "id": "ad653ff9-21d7-4175-bbd8-256006072b4a",
   "metadata": {},
   "outputs": [
    {
     "name": "stdout",
     "output_type": "stream",
     "text": [
      "The maximum number is 5. And the minimum number is -2.\n"
     ]
    }
   ],
   "source": [
    "a = 3\n",
    "b = -1\n",
    "c = 5\n",
    "d = -2\n",
    "\n",
    "max_num = max(a, b, c, d)\n",
    "min_num = min(a, b, c, d)\n",
    "\n",
    "print('The maximum number is ' + str(max_num) + '. And the minimum number is ' + str(min_num) + '.')"
   ]
  },
  {
   "cell_type": "markdown",
   "id": "dc6dbf9d-82d9-40f0-836a-8c67b7a85294",
   "metadata": {},
   "source": [
    "***\n",
    "The max() and min() functions may also be used in other ways, such as:\n",
    "* Finding the largest and smallest numbers in a list \n",
    "* Finding the alphabetically highest and alphabetically lowest string in a list\n",
    "* Finding the largest or smallest key in a dictionary\n",
    "\n",
    "If you are interested in learning more about these and other Python built-in functions, visit <a href=\"https://www.programiz.com/python-programming/methods/built-in\">this website."
   ]
  }
 ],
 "metadata": {
  "kernelspec": {
   "display_name": "Python",
   "language": "python",
   "name": "conda-env-python-py"
  },
  "language_info": {
   "codemirror_mode": {
    "name": "ipython",
    "version": 3
   },
   "file_extension": ".py",
   "mimetype": "text/x-python",
   "name": "python",
   "nbconvert_exporter": "python",
   "pygments_lexer": "ipython3",
   "version": "3.7.12"
  }
 },
 "nbformat": 4,
 "nbformat_minor": 5
}
